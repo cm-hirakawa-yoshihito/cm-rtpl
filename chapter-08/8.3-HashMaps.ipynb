{
 "cells": [
  {
   "cell_type": "markdown",
   "metadata": {},
   "source": [
    "# ハッシュマップ（HashMap<K, V>）"
   ]
  },
  {
   "cell_type": "markdown",
   "metadata": {},
   "source": [
    "## 新規ハッシュマップを生成する"
   ]
  },
  {
   "cell_type": "markdown",
   "metadata": {},
   "source": [
    "### HashMap::new()"
   ]
  },
  {
   "cell_type": "code",
   "execution_count": null,
   "metadata": {},
   "outputs": [],
   "source": [
    "// ベクタ、Stringと違って標準ライブラリのコレクション部分からHashMapをuseする必要がある\n",
    "use std::collections::HashMap;\n",
    "\n",
    "let mut scores = HashMap::new();\n",
    "\n",
    "// キーがString型、 値はi32型\n",
    "scores.insert(String::from(\"Blue\"), 10);\n",
    "scores.insert(String::from(\"Yellow\"), 50);\n",
    "scores"
   ]
  },
  {
   "cell_type": "markdown",
   "metadata": {},
   "source": [
    "- ベクタと全く同様に、ハッシュマップはデータをヒープに保持する\n",
    "- キーは全て同じ型でなければならず、 値も全て同じ型でなければならない"
   ]
  },
  {
   "cell_type": "markdown",
   "metadata": {},
   "source": [
    "### タプルのベクタに対してcollectメソッドを使用する"
   ]
  },
  {
   "cell_type": "code",
   "execution_count": null,
   "metadata": {},
   "outputs": [],
   "source": [
    "\n",
    "fn create_hashmap_from_vec() {\n",
    "    use std::collections::HashMap;\n",
    "\n",
    "    let teams  = vec![String::from(\"Blue\"), String::from(\"Yellow\")];\n",
    "    let initial_scores = vec![10, 50];\n",
    "\n",
    "    // HashMap<_, _>という型注釈が必要\n",
    "    // 型注釈にアンダースコアを使用 → コンパイラはベクタのデータ型に基づいてハッシュマップが含む型を推論することができる\n",
    "    let scores: HashMap<_, _> = teams.iter().zip(initial_scores.iter()).collect();\n",
    "    println!(\"{:?}\", scores);\n",
    "}\n",
    "create_hashmap_from_vec();"
   ]
  },
  {
   "cell_type": "markdown",
   "metadata": {},
   "source": [
    "### 外部ライブラリを使う\n",
    "\n",
    "[bluss/maplit](https://github.com/bluss/maplit)"
   ]
  },
  {
   "cell_type": "code",
   "execution_count": null,
   "metadata": {},
   "outputs": [],
   "source": [
    ":dep maplit = \"1.0.2\""
   ]
  },
  {
   "cell_type": "code",
   "execution_count": null,
   "metadata": {},
   "outputs": [],
   "source": [
    "use maplit::hashmap;"
   ]
  },
  {
   "cell_type": "code",
   "execution_count": null,
   "metadata": {},
   "outputs": [],
   "source": [
    "let map = hashmap!{\n",
    "    \"Blue\" => 10,\n",
    "    \"Yellow\" => 50,\n",
    "};\n",
    "map"
   ]
  },
  {
   "cell_type": "markdown",
   "metadata": {},
   "source": [
    "## ハッシュマップと所有権"
   ]
  },
  {
   "cell_type": "markdown",
   "metadata": {},
   "source": [
    "- i32のようなCopyトレイトを実装する型について、値はハッシュマップにコピーされる \n",
    "- Stringのような所有権のある値の場合、値はムーブされ所有権がハッシュマップに移る"
   ]
  },
  {
   "cell_type": "code",
   "execution_count": null,
   "metadata": {},
   "outputs": [],
   "source": [
    "use std::collections::HashMap;\n",
    "\n",
    "let field_name = String::from(\"Favorite color\");\n",
    "let field_value = String::from(\"Blue\");\n",
    "\n",
    "let mut map = HashMap::new();\n",
    "\n",
    "map.insert(field_name, field_value);\n",
    "println!(\"field_name:{}\", field_name);"
   ]
  },
  {
   "cell_type": "markdown",
   "metadata": {},
   "source": [
    "## ハッシュマップの値にアクセスする"
   ]
  },
  {
   "cell_type": "code",
   "execution_count": 13,
   "metadata": {},
   "outputs": [
    {
     "name": "stdout",
     "output_type": "stream",
     "text": [
      "Some(10), Some(10)\n"
     ]
    }
   ],
   "source": [
    "use std::collections::HashMap;\n",
    "\n",
    "fn get_value_from_hashmap() {\n",
    "    let mut scores = HashMap::new();\n",
    "\n",
    "    scores.insert(String::from(\"Blue\"), 10);\n",
    "    scores.insert(String::from(\"Yellow\"), 50);\n",
    "\n",
    "    let team_name = String::from(\"Blue\");\n",
    "    \n",
    "    // getメソッドで値を取り出す\n",
    "    // 戻り値はOption\n",
    "    let score = scores.get(&team_name);\n",
    "    let score2 = scores.get(&team_name);\n",
    "    // println!(\"{}\",team_name);\n",
    "    println!(\"{:?}, {:?}\",score, score2);\n",
    "    //println!(\"{:?}\",score2);\n",
    "}\n",
    "get_value_from_hashmap();"
   ]
  },
  {
   "cell_type": "code",
   "execution_count": 2,
   "metadata": {},
   "outputs": [
    {
     "name": "stdout",
     "output_type": "stream",
     "text": [
      "Blue: 10\n",
      "Yellow: 50\n"
     ]
    },
    {
     "data": {
      "text/plain": [
       "()"
      ]
     },
     "execution_count": 2,
     "metadata": {},
     "output_type": "execute_result"
    }
   ],
   "source": [
    "use std::collections::HashMap;\n",
    "\n",
    "let mut scores = HashMap::new();\n",
    "\n",
    "scores.insert(String::from(\"Blue\"), 10);\n",
    "scores.insert(String::from(\"Yellow\"), 50);\n",
    "\n",
    "// forループでハッシュマップのキーと値のペアを走査\n",
    "for (key, value) in &scores {\n",
    "    println!(\"{}: {}\", key, value);\n",
    "}"
   ]
  },
  {
   "cell_type": "markdown",
   "metadata": {},
   "source": [
    "## ハッシュマップを更新する"
   ]
  },
  {
   "cell_type": "markdown",
   "metadata": {},
   "source": [
    "### 値を上書きする"
   ]
  },
  {
   "cell_type": "code",
   "execution_count": 3,
   "metadata": {},
   "outputs": [
    {
     "name": "stdout",
     "output_type": "stream",
     "text": [
      "{\"Blue\": 25}\n"
     ]
    }
   ],
   "source": [
    "use std::collections::HashMap;\n",
    "\n",
    "let mut scores = HashMap::new();\n",
    "\n",
    "scores.insert(String::from(\"Blue\"), 10);\n",
    "scores.insert(String::from(\"Blue\"), 25);\n",
    "\n",
    "println!(\"{:?}\", scores);"
   ]
  },
  {
   "cell_type": "markdown",
   "metadata": {},
   "source": [
    "### キーに値がなかった時のみ値を挿入する"
   ]
  },
  {
   "cell_type": "code",
   "execution_count": 10,
   "metadata": {},
   "outputs": [
    {
     "name": "stdout",
     "output_type": "stream",
     "text": [
      "{\"Blue\": 10, \"Yellow\": 50}\n",
      "\"Yellow\"\n"
     ]
    }
   ],
   "source": [
    "use std::collections::HashMap;\n",
    "\n",
    "let mut scores = HashMap::new();\n",
    "scores.insert(String::from(\"Blue\"), 10);\n",
    "\n",
    "// entryメソッドの戻り値は、Entry（enum）を返す\n",
    "// or_insertメソッドは、対応するEntryキーが存在した時にそのキーに対する値への可変参照を返す\n",
    "// もしキーが存在しなかったら、引数をこのキーの新しい値として挿入し、新しい値への可変参照を返す\n",
    "let yellow = String::from(\"Yellow\");\n",
    "scores.entry(yellow.clone()).or_insert(50);\n",
    "scores.entry(String::from(\"Blue\")).or_insert(50);\n",
    "\n",
    "println!(\"{:?}\", scores);\n",
    "println!(\"{:?}\", yellow);"
   ]
  },
  {
   "cell_type": "markdown",
   "metadata": {},
   "source": [
    "### 古い値に基づいて値を更新する"
   ]
  },
  {
   "cell_type": "code",
   "execution_count": null,
   "metadata": {},
   "outputs": [],
   "source": [
    "use std::collections::HashMap;\n",
    "\n",
    "let text = \"hello world wonderful world\";\n",
    "\n",
    "let mut map = HashMap::new();\n",
    "\n",
    "for word in text.split_whitespace() {\n",
    "    let count = map.entry(word).or_insert(0);\n",
    "    *count += 1;\n",
    "}\n",
    "\n",
    "println!(\"{:?}\", map);"
   ]
  },
  {
   "cell_type": "markdown",
   "metadata": {},
   "source": [
    "## ハッシュ関数"
   ]
  },
  {
   "cell_type": "markdown",
   "metadata": {},
   "source": [
    "- デフォルトではハッシュ値の生成に**SipHash**という暗号強度のハッシュアルゴリズムを使用している\n",
    "- これによりhashdos攻撃への耐性を確保している\n",
    "- 暗号強度よりも速度重視の場合は、独自のhasher（BuildeHasherトレイトを実装する型）を指定することで別のハッシュ関数に切り替えることができる\n",
    "    - [servo/rust-fnv: Fowler–Noll–Vo hash function](https://github.com/servo/rust-fnv)"
   ]
  },
  {
   "cell_type": "markdown",
   "metadata": {},
   "source": [
    "## まとめ"
   ]
  },
  {
   "cell_type": "markdown",
   "metadata": {},
   "source": [
    "- [marionebl/rust-book-exercises: Exercise code written while following along the Rust Book](https://github.com/marionebl/rust-book-exercises)\n",
    "- [The Rust Book Chapter 8 Exercises – Scott’s Thoughts](https://scottwlaforest.com/rust/the-rust-book-chapter-8-exercises/)"
   ]
  },
  {
   "cell_type": "code",
   "execution_count": null,
   "metadata": {},
   "outputs": [],
   "source": []
  }
 ],
 "metadata": {
  "kernelspec": {
   "display_name": "Rust",
   "language": "rust",
   "name": "rust"
  },
  "language_info": {
   "codemirror_mode": "rust",
   "file_extension": ".rs",
   "mimetype": "text/rust",
   "name": "Rust",
   "pygment_lexer": "rust",
   "version": ""
  }
 },
 "nbformat": 4,
 "nbformat_minor": 4
}
