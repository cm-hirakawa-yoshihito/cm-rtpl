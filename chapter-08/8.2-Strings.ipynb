{
 "cells": [
  {
   "cell_type": "markdown",
   "metadata": {},
   "source": [
    "# 文字列型（String）"
   ]
  },
  {
   "cell_type": "markdown",
   "metadata": {},
   "source": [
    "### OsString、OsStr、CString、CStr\n",
    "\n",
    "- [std::ffi::CString - Rust](https://doc.rust-lang.org/std/ffi/struct.CString.html), [std::ffi::CStr - Rust](https://doc.rust-lang.org/std/ffi/struct.CStr.html)\n",
    "    - RustのCStringはCと同様にヌル終端された文字列型で、主にffiによるCの関数呼び出し時に使う\n",
    "    - Cと文字列をやり取りするときは、strやStringは使えない\n",
    "    - Rustの文字列はNULL終端せずに長さの情報を参照あるいはデータ型内に持つのに対して、Cの文字列は長さ情報を持たにNULL終端しているため\n",
    "    - Rustのstd::ffiモジュールにはstrのNULL終端版とStringのNULL終端版のCStringが用意されている\n",
    "    - RustからCにNULL終端文字列を渡すときは、CString::newでRustの文字列などからNULL終端文字列が作れる\n",
    "    - [rustbook/cffi_readline.rs at master · ghmagazine/rustbook](https://github.com/ghmagazine/rustbook/blob/master/ch12/cffi_readline.rs)\n",
    "\n",
    "\n",
    "- [std::ffi::OsString - Rust](https://doc.rust-lang.org/std/ffi/struct.OsString.html), [std::ffi::OsStr - Rust](https://doc.rust-lang.org/std/ffi/struct.OsStr.html)\n",
    "    - OSネイティブの文字列\n",
    "    - [RustとWindowsのワイド文字列（LPCWSTR / LPWSTR） | d.sunnyone.org](http://d.sunnyone.org/2015/06/rustwindowslpcwstr-lpwstr.html)"
   ]
  },
  {
   "cell_type": "markdown",
   "metadata": {},
   "source": [
    "## 新規に文字列を作成する\n"
   ]
  },
  {
   "cell_type": "code",
   "execution_count": null,
   "metadata": {},
   "outputs": [],
   "source": [
    "let mut s = String::new();"
   ]
  },
  {
   "cell_type": "code",
   "execution_count": null,
   "metadata": {},
   "outputs": [],
   "source": [
    "let data = \"initial contents\";\n",
    "\n",
    "// to_stringメソッドを使用して文字列リテラルからStringを生成する\n",
    "let s = data.to_string();\n",
    "\n",
    "// the method also works on a literal directly:\n",
    "let s = \"initial contents\".to_string();\n",
    "s"
   ]
  },
  {
   "cell_type": "code",
   "execution_count": null,
   "metadata": {},
   "outputs": [],
   "source": [
    "// 文字列リテラルからStringを生成する\n",
    "let s = String::from(\"initial contents\");\n",
    "s"
   ]
  },
  {
   "cell_type": "code",
   "execution_count": null,
   "metadata": {},
   "outputs": [],
   "source": [
    "let hello = String::from(\"안녕하세요\");\n",
    "hello"
   ]
  },
  {
   "cell_type": "markdown",
   "metadata": {},
   "source": [
    "## 文字列を更新する"
   ]
  },
  {
   "cell_type": "markdown",
   "metadata": {},
   "source": [
    "### ``push_str``と``push``で文字列を追加する"
   ]
  },
  {
   "cell_type": "markdown",
   "metadata": {},
   "source": [
    "#### push_str"
   ]
  },
  {
   "cell_type": "code",
   "execution_count": null,
   "metadata": {},
   "outputs": [],
   "source": [
    "let mut s = String::from(\"foo\");\n",
    "\n",
    "// push_strで文字列を追加。引数は文字列スライス（&str）\n",
    "s.push_str(\"bar\");\n",
    "s"
   ]
  },
  {
   "cell_type": "code",
   "execution_count": null,
   "metadata": {},
   "outputs": [],
   "source": [
    "let mut s1 = String::from(\"foo\");\n",
    "let s2 = \"bar\";\n",
    "s1.push_str(s2);\n",
    "\n",
    "// push_strはs2の所有権を奪わない\n",
    "println!(\"s2 is {}\", s2);"
   ]
  },
  {
   "cell_type": "markdown",
   "metadata": {},
   "source": [
    "#### push"
   ]
  },
  {
   "cell_type": "code",
   "execution_count": null,
   "metadata": {},
   "outputs": [],
   "source": [
    "// pushメソッドは、1文字を引数として取り、Stringに追加する\n",
    "let mut s = String::from(\"lo\");\n",
    "s.push('l');\n",
    "s"
   ]
  },
  {
   "cell_type": "markdown",
   "metadata": {},
   "source": [
    "``+``演算子、または``format!``マクロで連結"
   ]
  },
  {
   "cell_type": "code",
   "execution_count": null,
   "metadata": {},
   "outputs": [],
   "source": [
    "let s1 = String::from(\"Hello, \");\n",
    "let s2 = String::from(\"world!\");\n",
    "// s1 + s2の参照\n",
    "let s3 = s1 + &s2; // s1はムーブされ、もう使用できないことに注意\n",
    "// s1 + &s2;\n",
    "s1"
   ]
  },
  {
   "cell_type": "markdown",
   "metadata": {},
   "source": [
    "``+``演算子では以下のようなaddメソッドが呼ばれる\n",
    "``` rust\n",
    "fn add(self, s: &str) -> String {}\n",
    "```\n",
    "- 最初の文字列に2番目の文字列の参照（&str）を追加する（Stringには&strを追加することしかできない）\n",
    "- add呼び出しでは、コンパイラが&String引数を&strに型強制してくれる。ここでは、 &s2を&s2[..]に変えている\n",
    "- addはselfの所有権をもらう（&selfではない）\n",
    "- s1はadd呼び出しにムーブされ、その後は有効ではなくなる\n",
    "- s3 = s1 + &s2;は両文字列をコピーして新しいものを作るように見えるが、実際にはs1の所有権を奪い、s2の中身のコピーを追記し、結果の所有権を返す"
   ]
  },
  {
   "cell_type": "markdown",
   "metadata": {},
   "source": [
    "### format!"
   ]
  },
  {
   "cell_type": "code",
   "execution_count": null,
   "metadata": {},
   "outputs": [],
   "source": [
    "let s1 = String::from(\"tic\");\n",
    "let s2 = String::from(\"tac\");\n",
    "let s3 = String::from(\"toe\");\n",
    "\n",
    "let s = format!(\"{}-{}-{}\", s1, s2, s3);\n",
    "s"
   ]
  },
  {
   "cell_type": "markdown",
   "metadata": {},
   "source": [
    "## 文字列に添え字でアクセスする（Rustではサポートされていない）"
   ]
  },
  {
   "cell_type": "code",
   "execution_count": null,
   "metadata": {},
   "outputs": [],
   "source": [
    "let s1 = String::from(\"hello\");\n",
    "let h = s1[0];"
   ]
  },
  {
   "cell_type": "markdown",
   "metadata": {},
   "source": [
    "### 内部表現"
   ]
  },
  {
   "cell_type": "code",
   "execution_count": null,
   "metadata": {},
   "outputs": [],
   "source": [
    "// 文字列 \"Hola\"を保持するベクタの長さが 4バイトであることを意味する\n",
    "// これらの各文字は、UTF-8でエンコードすると、1バイトになる\n",
    "let len = String::from(\"Hola\").len();\n",
    "len"
   ]
  },
  {
   "cell_type": "code",
   "execution_count": null,
   "metadata": {},
   "outputs": [],
   "source": [
    "// “Здравствуйте”をUTF-8でエンコードすると 24バイトになる（各Unicodeスカラー値は、2バイトの領域を取る）\n",
    "// 文字列のバイトの添え字は、必ずしも有効なUnicodeのスカラー値とは相互に関係しない\n",
    "let len = String::from(\"Здравствуйте\").len();\n",
    "len"
   ]
  },
  {
   "cell_type": "code",
   "execution_count": null,
   "metadata": {},
   "outputs": [],
   "source": [
    "let hello = \"Здравствуйте\";\n",
    "let bytes: &[u8] = hello.as_bytes();\n",
    "bytes"
   ]
  },
  {
   "cell_type": "code",
   "execution_count": null,
   "metadata": {},
   "outputs": [],
   "source": [
    "\"hello\".as_bytes()"
   ]
  },
  {
   "cell_type": "markdown",
   "metadata": {},
   "source": [
    "### バイトとスカラー値と書記素クラスタ"
   ]
  },
  {
   "cell_type": "code",
   "execution_count": null,
   "metadata": {},
   "outputs": [],
   "source": [
    "\"नमस्ते\".as_bytes()"
   ]
  },
  {
   "cell_type": "code",
   "execution_count": null,
   "metadata": {},
   "outputs": [],
   "source": [
    "// Unicodeスカラー値（Rustのchar型）\n",
    "\"नमस्ते\".chars()"
   ]
  },
  {
   "cell_type": "markdown",
   "metadata": {},
   "source": [
    "4番目と6番目は文字ではない：単独では意味をなさないダイアクリティック"
   ]
  },
  {
   "cell_type": "code",
   "execution_count": null,
   "metadata": {},
   "outputs": [],
   "source": [
    "println!(\"{:x}\", 'の' as u32);"
   ]
  },
  {
   "cell_type": "code",
   "execution_count": null,
   "metadata": {},
   "outputs": [],
   "source": [
    "let st = \"👨‍👩‍👦‍👦\";\n",
    "\n",
    "for cp in st.chars().map(|ch| ch as u32) {\n",
    "    println!(\"{:x}\", cp);\n",
    "}"
   ]
  },
  {
   "cell_type": "markdown",
   "metadata": {},
   "source": [
    "## 文字列をスライスする"
   ]
  },
  {
   "cell_type": "code",
   "execution_count": null,
   "metadata": {},
   "outputs": [],
   "source": [
    "// 字列添え字処理の戻り値の型が明瞭ではない。戻り値はバイト値、文字、書記素クラスタ、あるいは文字列スライスになる\n",
    "// 文字列スライスを得るには、[]で1つの数値により添え字アクセスするのではなく、範囲とともに[]を使って特定のバイトを含む文字列スライスを作る\n",
    "let hello = \"Здравствуйте\";\n",
    "\n",
    "let s = &hello[0..1];\n",
    "s"
   ]
  },
  {
   "cell_type": "markdown",
   "metadata": {},
   "source": [
    "## 文字列を走査するメソッド群"
   ]
  },
  {
   "cell_type": "code",
   "execution_count": 2,
   "metadata": {},
   "outputs": [
    {
     "name": "stdout",
     "output_type": "stream",
     "text": [
      "न\n",
      "म\n",
      "स\n",
      "्\n",
      "त\n",
      "े\n"
     ]
    },
    {
     "data": {
      "text/plain": [
       "()"
      ]
     },
     "execution_count": 2,
     "metadata": {},
     "output_type": "execute_result"
    }
   ],
   "source": [
    "for c in \"नमस्ते\".chars() {\n",
    "    println!(\"{}\", c);\n",
    "}"
   ]
  },
  {
   "cell_type": "code",
   "execution_count": 3,
   "metadata": {},
   "outputs": [
    {
     "name": "stdout",
     "output_type": "stream",
     "text": [
      "224\n",
      "164\n",
      "168\n",
      "224\n",
      "164\n",
      "174\n",
      "224\n",
      "164\n",
      "184\n",
      "224\n",
      "165\n",
      "141\n",
      "224\n",
      "164\n",
      "164\n",
      "224\n",
      "165\n",
      "135\n"
     ]
    },
    {
     "data": {
      "text/plain": [
       "()"
      ]
     },
     "execution_count": 3,
     "metadata": {},
     "output_type": "execute_result"
    }
   ],
   "source": [
    "for b in \"नमस्ते\".bytes() {\n",
    "    println!(\"{}\", b);\n",
    "}"
   ]
  },
  {
   "cell_type": "code",
   "execution_count": null,
   "metadata": {},
   "outputs": [],
   "source": []
  }
 ],
 "metadata": {
  "kernelspec": {
   "display_name": "Rust",
   "language": "rust",
   "name": "rust"
  },
  "language_info": {
   "codemirror_mode": "rust",
   "file_extension": ".rs",
   "mimetype": "text/rust",
   "name": "Rust",
   "pygment_lexer": "rust",
   "version": ""
  }
 },
 "nbformat": 4,
 "nbformat_minor": 4
}
